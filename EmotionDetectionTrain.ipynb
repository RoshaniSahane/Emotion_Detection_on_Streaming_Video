{
 "cells": [
  {
   "cell_type": "code",
   "execution_count": 2,
   "id": "62e1f373",
   "metadata": {},
   "outputs": [
    {
     "name": "stderr",
     "output_type": "stream",
     "text": [
      "C:\\Users\\Roshani\\anaconda3\\lib\\site-packages\\scipy\\__init__.py:155: UserWarning: A NumPy version >=1.18.5 and <1.25.0 is required for this version of SciPy (detected version 1.26.2\n",
      "  warnings.warn(f\"A NumPy version >={np_minversion} and <{np_maxversion}\"\n"
     ]
    }
   ],
   "source": [
    "import cv2\n",
    "from keras.models import Sequential\n",
    "from keras.layers import Conv2D, MaxPooling2D, Dense, Dropout, Flatten\n",
    "from keras.optimizers import Adam\n",
    "from keras.preprocessing.image import ImageDataGenerator"
   ]
  },
  {
   "cell_type": "code",
   "execution_count": 3,
   "id": "4cc2d7c4",
   "metadata": {},
   "outputs": [],
   "source": [
    "train_data_gen = ImageDataGenerator(rescale=1./255)\n",
    "validation_data_gen = ImageDataGenerator(rescale=1./255)"
   ]
  },
  {
   "cell_type": "code",
   "execution_count": 4,
   "id": "56daafc2",
   "metadata": {},
   "outputs": [
    {
     "name": "stdout",
     "output_type": "stream",
     "text": [
      "Found 28709 images belonging to 7 classes.\n",
      "Found 7178 images belonging to 7 classes.\n"
     ]
    }
   ],
   "source": [
    "train_generator = train_data_gen.flow_from_directory(\n",
    "        'train',\n",
    "        target_size=(48, 48),\n",
    "        batch_size=64,\n",
    "        color_mode=\"grayscale\",\n",
    "        class_mode='categorical')\n",
    "\n",
    "validation_generator = validation_data_gen.flow_from_directory(\n",
    "        'test',\n",
    "        target_size=(48, 48),\n",
    "        batch_size=64,\n",
    "        color_mode=\"grayscale\",\n",
    "        class_mode='categorical')"
   ]
  },
  {
   "cell_type": "code",
   "execution_count": 4,
   "id": "30ca1079",
   "metadata": {},
   "outputs": [
    {
     "name": "stderr",
     "output_type": "stream",
     "text": [
      "C:\\Users\\Roshani\\anaconda3\\lib\\site-packages\\keras\\optimizers\\optimizer_v2\\adam.py:117: UserWarning: The `lr` argument is deprecated, use `learning_rate` instead.\n",
      "  super().__init__(name, **kwargs)\n"
     ]
    }
   ],
   "source": [
    "emotion_model = Sequential()\n",
    "\n",
    "emotion_model.add(Conv2D(32, kernel_size=(3, 3), activation='relu', input_shape=(48, 48, 1)))\n",
    "emotion_model.add(Conv2D(64, kernel_size=(3, 3), activation='relu'))\n",
    "emotion_model.add(MaxPooling2D(pool_size=(2, 2)))\n",
    "emotion_model.add(Dropout(0.25))\n",
    "\n",
    "emotion_model.add(Conv2D(128, kernel_size=(3, 3), activation='relu'))\n",
    "emotion_model.add(MaxPooling2D(pool_size=(2, 2)))\n",
    "emotion_model.add(Conv2D(128, kernel_size=(3, 3), activation='relu'))\n",
    "emotion_model.add(MaxPooling2D(pool_size=(2, 2)))\n",
    "emotion_model.add(Dropout(0.25))\n",
    "\n",
    "emotion_model.add(Flatten())\n",
    "emotion_model.add(Dense(1024, activation='relu'))\n",
    "emotion_model.add(Dropout(0.5))\n",
    "emotion_model.add(Dense(7, activation='softmax'))\n",
    "\n",
    "cv2.ocl.setUseOpenCL(False)\n",
    "\n",
    "emotion_model.compile(loss='categorical_crossentropy', optimizer=Adam(lr=0.0001, decay=1e-6), metrics=['accuracy'])"
   ]
  },
  {
   "cell_type": "code",
   "execution_count": 5,
   "id": "b6feaac7",
   "metadata": {},
   "outputs": [
    {
     "name": "stderr",
     "output_type": "stream",
     "text": [
      "C:\\Users\\Roshani\\AppData\\Local\\Temp\\ipykernel_27884\\1151617337.py:1: UserWarning: `Model.fit_generator` is deprecated and will be removed in a future version. Please use `Model.fit`, which supports generators.\n",
      "  emotion_model_info = emotion_model.fit_generator(\n"
     ]
    },
    {
     "name": "stdout",
     "output_type": "stream",
     "text": [
      "Epoch 1/50\n",
      "448/448 [==============================] - 898s 2s/step - loss: 1.8072 - accuracy: 0.2581 - val_loss: 1.7135 - val_accuracy: 0.3292\n",
      "Epoch 2/50\n",
      "448/448 [==============================] - 237s 528ms/step - loss: 1.6375 - accuracy: 0.3559 - val_loss: 1.5529 - val_accuracy: 0.4042\n",
      "Epoch 3/50\n",
      "448/448 [==============================] - 241s 537ms/step - loss: 1.5387 - accuracy: 0.4092 - val_loss: 1.4844 - val_accuracy: 0.4314\n",
      "Epoch 4/50\n",
      "448/448 [==============================] - 250s 557ms/step - loss: 1.4632 - accuracy: 0.4377 - val_loss: 1.4279 - val_accuracy: 0.4604\n",
      "Epoch 5/50\n",
      "448/448 [==============================] - 679s 2s/step - loss: 1.3951 - accuracy: 0.4699 - val_loss: 1.3467 - val_accuracy: 0.4867\n",
      "Epoch 6/50\n",
      "448/448 [==============================] - 336s 750ms/step - loss: 1.3457 - accuracy: 0.4901 - val_loss: 1.3053 - val_accuracy: 0.5052\n",
      "Epoch 7/50\n",
      "448/448 [==============================] - 305s 680ms/step - loss: 1.2983 - accuracy: 0.5116 - val_loss: 1.2648 - val_accuracy: 0.5156\n",
      "Epoch 8/50\n",
      "448/448 [==============================] - 282s 630ms/step - loss: 1.2592 - accuracy: 0.5231 - val_loss: 1.2395 - val_accuracy: 0.5261\n",
      "Epoch 9/50\n",
      "448/448 [==============================] - 238s 531ms/step - loss: 1.2229 - accuracy: 0.5389 - val_loss: 1.2170 - val_accuracy: 0.5393\n",
      "Epoch 10/50\n",
      "448/448 [==============================] - 245s 547ms/step - loss: 1.1907 - accuracy: 0.5533 - val_loss: 1.1883 - val_accuracy: 0.5466\n",
      "Epoch 11/50\n",
      "448/448 [==============================] - 271s 605ms/step - loss: 1.1637 - accuracy: 0.5637 - val_loss: 1.1873 - val_accuracy: 0.5513\n",
      "Epoch 12/50\n",
      "448/448 [==============================] - 561s 1s/step - loss: 1.1438 - accuracy: 0.5707 - val_loss: 1.1589 - val_accuracy: 0.5615\n",
      "Epoch 13/50\n",
      "448/448 [==============================] - 3793s 8s/step - loss: 1.1144 - accuracy: 0.5841 - val_loss: 1.1422 - val_accuracy: 0.5684\n",
      "Epoch 14/50\n",
      "448/448 [==============================] - 707s 2s/step - loss: 1.0898 - accuracy: 0.5926 - val_loss: 1.1354 - val_accuracy: 0.5649\n",
      "Epoch 15/50\n",
      "448/448 [==============================] - 848s 2s/step - loss: 1.0657 - accuracy: 0.6025 - val_loss: 1.1385 - val_accuracy: 0.5709\n",
      "Epoch 16/50\n",
      "448/448 [==============================] - 908s 2s/step - loss: 1.0469 - accuracy: 0.6092 - val_loss: 1.1161 - val_accuracy: 0.5804\n",
      "Epoch 17/50\n",
      "448/448 [==============================] - 280s 624ms/step - loss: 1.0214 - accuracy: 0.6204 - val_loss: 1.1024 - val_accuracy: 0.5858\n",
      "Epoch 18/50\n",
      "448/448 [==============================] - 274s 612ms/step - loss: 1.0017 - accuracy: 0.6263 - val_loss: 1.0967 - val_accuracy: 0.5862\n",
      "Epoch 19/50\n",
      "448/448 [==============================] - 277s 619ms/step - loss: 0.9765 - accuracy: 0.6362 - val_loss: 1.0972 - val_accuracy: 0.5868\n",
      "Epoch 20/50\n",
      "448/448 [==============================] - 279s 622ms/step - loss: 0.9537 - accuracy: 0.6475 - val_loss: 1.0838 - val_accuracy: 0.5918\n",
      "Epoch 21/50\n",
      "448/448 [==============================] - 279s 622ms/step - loss: 0.9304 - accuracy: 0.6546 - val_loss: 1.0829 - val_accuracy: 0.5947\n",
      "Epoch 22/50\n",
      "448/448 [==============================] - 23251s 52s/step - loss: 0.9103 - accuracy: 0.6635 - val_loss: 1.0761 - val_accuracy: 0.6002\n",
      "Epoch 23/50\n",
      "448/448 [==============================] - 736s 2s/step - loss: 0.8920 - accuracy: 0.6713 - val_loss: 1.0811 - val_accuracy: 0.5953\n",
      "Epoch 24/50\n",
      "448/448 [==============================] - 653s 1s/step - loss: 0.8659 - accuracy: 0.6800 - val_loss: 1.0863 - val_accuracy: 0.5989\n",
      "Epoch 25/50\n",
      "448/448 [==============================] - 641s 1s/step - loss: 0.8441 - accuracy: 0.6903 - val_loss: 1.0722 - val_accuracy: 0.6064\n",
      "Epoch 26/50\n",
      "448/448 [==============================] - 689s 2s/step - loss: 0.8259 - accuracy: 0.6953 - val_loss: 1.0750 - val_accuracy: 0.6074\n",
      "Epoch 27/50\n",
      "448/448 [==============================] - 295s 658ms/step - loss: 0.8062 - accuracy: 0.7024 - val_loss: 1.0710 - val_accuracy: 0.6078\n",
      "Epoch 28/50\n",
      "448/448 [==============================] - 231s 516ms/step - loss: 0.7786 - accuracy: 0.7128 - val_loss: 1.0617 - val_accuracy: 0.6078\n",
      "Epoch 29/50\n",
      "448/448 [==============================] - 235s 524ms/step - loss: 0.7537 - accuracy: 0.7262 - val_loss: 1.0764 - val_accuracy: 0.6179\n",
      "Epoch 30/50\n",
      "448/448 [==============================] - 237s 530ms/step - loss: 0.7374 - accuracy: 0.7304 - val_loss: 1.0804 - val_accuracy: 0.6113\n",
      "Epoch 31/50\n",
      "448/448 [==============================] - 237s 528ms/step - loss: 0.7179 - accuracy: 0.7386 - val_loss: 1.0675 - val_accuracy: 0.6120\n",
      "Epoch 32/50\n",
      "448/448 [==============================] - 236s 527ms/step - loss: 0.6951 - accuracy: 0.7468 - val_loss: 1.0854 - val_accuracy: 0.6102\n",
      "Epoch 33/50\n",
      "448/448 [==============================] - 237s 529ms/step - loss: 0.6692 - accuracy: 0.7564 - val_loss: 1.0855 - val_accuracy: 0.6109\n",
      "Epoch 34/50\n",
      "448/448 [==============================] - 238s 531ms/step - loss: 0.6508 - accuracy: 0.7634 - val_loss: 1.0805 - val_accuracy: 0.6152\n",
      "Epoch 35/50\n",
      "448/448 [==============================] - 237s 530ms/step - loss: 0.6238 - accuracy: 0.7736 - val_loss: 1.1029 - val_accuracy: 0.6120\n",
      "Epoch 36/50\n",
      "448/448 [==============================] - 240s 535ms/step - loss: 0.6095 - accuracy: 0.7801 - val_loss: 1.0876 - val_accuracy: 0.6173\n",
      "Epoch 37/50\n",
      "448/448 [==============================] - 237s 530ms/step - loss: 0.5924 - accuracy: 0.7855 - val_loss: 1.0999 - val_accuracy: 0.6175\n",
      "Epoch 38/50\n",
      "448/448 [==============================] - 169s 378ms/step - loss: 0.5688 - accuracy: 0.7935 - val_loss: 1.1042 - val_accuracy: 0.6196\n",
      "Epoch 39/50\n",
      "448/448 [==============================] - 496s 1s/step - loss: 0.5580 - accuracy: 0.8002 - val_loss: 1.1161 - val_accuracy: 0.6193\n",
      "Epoch 40/50\n",
      "448/448 [==============================] - 527s 1s/step - loss: 0.5354 - accuracy: 0.8040 - val_loss: 1.1206 - val_accuracy: 0.6207\n",
      "Epoch 41/50\n",
      "448/448 [==============================] - 618s 1s/step - loss: 0.5192 - accuracy: 0.8146 - val_loss: 1.1304 - val_accuracy: 0.6218\n",
      "Epoch 42/50\n",
      "448/448 [==============================] - 471s 1s/step - loss: 0.4991 - accuracy: 0.8168 - val_loss: 1.1343 - val_accuracy: 0.6218\n",
      "Epoch 43/50\n",
      "448/448 [==============================] - 35980s 80s/step - loss: 0.4889 - accuracy: 0.8217 - val_loss: 1.1396 - val_accuracy: 0.6177\n",
      "Epoch 44/50\n",
      "448/448 [==============================] - 576s 1s/step - loss: 0.4687 - accuracy: 0.8312 - val_loss: 1.1425 - val_accuracy: 0.6219\n",
      "Epoch 45/50\n",
      "448/448 [==============================] - 240s 536ms/step - loss: 0.4553 - accuracy: 0.8363 - val_loss: 1.1745 - val_accuracy: 0.6230\n",
      "Epoch 46/50\n",
      "448/448 [==============================] - 239s 534ms/step - loss: 0.4389 - accuracy: 0.8429 - val_loss: 1.1633 - val_accuracy: 0.6253\n",
      "Epoch 47/50\n",
      "448/448 [==============================] - 240s 535ms/step - loss: 0.4241 - accuracy: 0.8486 - val_loss: 1.1766 - val_accuracy: 0.6239\n",
      "Epoch 48/50\n",
      "448/448 [==============================] - 239s 533ms/step - loss: 0.4153 - accuracy: 0.8507 - val_loss: 1.1712 - val_accuracy: 0.6295\n",
      "Epoch 49/50\n",
      "448/448 [==============================] - 243s 542ms/step - loss: 0.4002 - accuracy: 0.8547 - val_loss: 1.1938 - val_accuracy: 0.6221\n",
      "Epoch 50/50\n",
      "448/448 [==============================] - 237s 528ms/step - loss: 0.3921 - accuracy: 0.8588 - val_loss: 1.2004 - val_accuracy: 0.6250\n"
     ]
    }
   ],
   "source": [
    "emotion_model_info = emotion_model.fit_generator(\n",
    "        train_generator,\n",
    "        steps_per_epoch=28709 // 64,\n",
    "        epochs=50,\n",
    "        validation_data=validation_generator,\n",
    "        validation_steps=7178 // 64)"
   ]
  },
  {
   "cell_type": "code",
   "execution_count": 6,
   "id": "cf6546ec",
   "metadata": {},
   "outputs": [],
   "source": [
    "model_json = emotion_model.to_json()\n",
    "with open(\"emotion_model_video.json\", \"w\") as json_file:\n",
    "    json_file.write(model_json)"
   ]
  },
  {
   "cell_type": "code",
   "execution_count": 7,
   "id": "4d3eeca7",
   "metadata": {},
   "outputs": [],
   "source": [
    "# save trained model weight in .h5 file\n",
    "emotion_model.save_weights('emotion_model_video.h5')"
   ]
  },
  {
   "cell_type": "code",
   "execution_count": 8,
   "id": "30166a34",
   "metadata": {},
   "outputs": [],
   "source": [
    "import numpy as np\n",
    "from keras.models import model_from_json\n",
    "import matplotlib.pyplot as plt\n",
    "from keras.preprocessing.image import ImageDataGenerator\n",
    "from sklearn.metrics import confusion_matrix, classification_report,ConfusionMatrixDisplay"
   ]
  },
  {
   "cell_type": "code",
   "execution_count": 9,
   "id": "c2003776",
   "metadata": {},
   "outputs": [],
   "source": [
    "emotion_dict = {0: \"Angry\", 1: \"Disgusted\", 2: \"Fearful\", 3: \"Happy\", 4: \"Neutral\", 5: \"Sad\", 6: \"Surprised\"}\n"
   ]
  },
  {
   "cell_type": "code",
   "execution_count": 10,
   "id": "43c93256",
   "metadata": {},
   "outputs": [],
   "source": [
    "json_file = open('emotion_model_video.json', 'r')\n",
    "loaded_model_json = json_file.read()\n",
    "json_file.close()\n",
    "emotion_model = model_from_json(loaded_model_json)"
   ]
  },
  {
   "cell_type": "code",
   "execution_count": 11,
   "id": "26e2b0be",
   "metadata": {},
   "outputs": [
    {
     "name": "stdout",
     "output_type": "stream",
     "text": [
      "Loaded model from disk\n"
     ]
    }
   ],
   "source": [
    "emotion_model.load_weights(\"emotion_model_video.h5\")\n",
    "print(\"Loaded model from disk\")"
   ]
  },
  {
   "cell_type": "code",
   "execution_count": 12,
   "id": "438ff508",
   "metadata": {},
   "outputs": [],
   "source": [
    "# Initialize image data generator with rescaling\n",
    "test_data_gen = ImageDataGenerator(rescale=1./255)\n"
   ]
  },
  {
   "cell_type": "code",
   "execution_count": 13,
   "id": "7b1f09c0",
   "metadata": {},
   "outputs": [
    {
     "name": "stdout",
     "output_type": "stream",
     "text": [
      "Found 7178 images belonging to 7 classes.\n"
     ]
    }
   ],
   "source": [
    "# Preprocess all test images\n",
    "test_generator = test_data_gen.flow_from_directory(\n",
    "        'test',\n",
    "        target_size=(48, 48),\n",
    "        batch_size=64,\n",
    "        color_mode=\"grayscale\",\n",
    "        class_mode='categorical')"
   ]
  },
  {
   "cell_type": "code",
   "execution_count": 14,
   "id": "b5e031d0",
   "metadata": {},
   "outputs": [
    {
     "name": "stderr",
     "output_type": "stream",
     "text": [
      "C:\\Users\\Roshani\\AppData\\Local\\Temp\\ipykernel_27884\\3003485560.py:2: UserWarning: `Model.predict_generator` is deprecated and will be removed in a future version. Please use `Model.predict`, which supports generators.\n",
      "  predictions = emotion_model.predict_generator(test_generator)\n"
     ]
    }
   ],
   "source": [
    "# do prediction on test data\n",
    "predictions = emotion_model.predict_generator(test_generator)"
   ]
  },
  {
   "cell_type": "code",
   "execution_count": 15,
   "id": "0995b4d3",
   "metadata": {},
   "outputs": [
    {
     "name": "stdout",
     "output_type": "stream",
     "text": [
      "[[112  12 125 245 203 140 121]\n",
      " [ 16   4  13  33  23  14   8]\n",
      " [141  19 135 256 203 138 132]\n",
      " [236  21 243 503 330 246 195]\n",
      " [171  12 175 342 237 160 136]\n",
      " [163  15 166 333 250 178 142]\n",
      " [ 96  10 122 241 146 109 107]]\n"
     ]
    },
    {
     "data": {
      "image/png": "[encoded data removed]",
      "text/plain": [
       "<Figure size 640x480 with 2 Axes>"
      ]
     },
     "metadata": {},
     "output_type": "display_data"
    }
   ],
   "source": [
    "# confusion matrix\n",
    "c_matrix = confusion_matrix(test_generator.classes, predictions.argmax(axis=1))\n",
    "print(c_matrix)\n",
    "cm_display = ConfusionMatrixDisplay(confusion_matrix=c_matrix, display_labels=emotion_dict)\n",
    "cm_display.plot(cmap=plt.cm.Blues)\n",
    "plt.show()"
   ]
  },
  {
   "cell_type": "code",
   "execution_count": null,
   "id": "8d1e52c0",
   "metadata": {},
   "outputs": [],
   "source": []
  }
 ],
 "metadata": {
  "kernelspec": {
   "display_name": "Python 3 (ipykernel)",
   "language": "python",
   "name": "python3"
  },
  "language_info": {
   "codemirror_mode": {
    "name": "ipython",
    "version": 3
   },
   "file_extension": ".py",
   "mimetype": "text/x-python",
   "name": "python",
   "nbconvert_exporter": "python",
   "pygments_lexer": "ipython3",
   "version": "3.9.13"
  }
 },
 "nbformat": 4,
 "nbformat_minor": 5
}
